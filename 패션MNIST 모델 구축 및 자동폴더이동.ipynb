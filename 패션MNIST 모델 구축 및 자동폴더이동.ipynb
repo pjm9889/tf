{
 "cells": [
  {
   "cell_type": "code",
   "execution_count": 1,
   "id": "8b67f300",
   "metadata": {},
   "outputs": [
    {
     "name": "stdout",
     "output_type": "stream",
     "text": [
      "2.0.0\n"
     ]
    }
   ],
   "source": [
    "# TensorFlow and tf.keras\n",
    "import tensorflow as tf\n",
    "\n",
    "# Helper libraries\n",
    "import numpy as np\n",
    "import matplotlib.pyplot as plt\n",
    "\n",
    "print(tf.__version__)"
   ]
  },
  {
   "cell_type": "code",
   "execution_count": 24,
   "id": "73af01ae",
   "metadata": {},
   "outputs": [],
   "source": [
    "fashion_mnist = tf.keras.datasets.fashion_mnist\n",
    "\n",
    "(train_images, train_labels), (test_images, test_labels) = fashion_mnist.load_data()"
   ]
  },
  {
   "cell_type": "code",
   "execution_count": 25,
   "id": "f6330f42",
   "metadata": {},
   "outputs": [],
   "source": [
    "train_images = train_images / 255.0\n",
    "\n",
    "test_images = test_images / 255.0"
   ]
  },
  {
   "cell_type": "code",
   "execution_count": 26,
   "id": "23bfe198",
   "metadata": {},
   "outputs": [
    {
     "data": {
      "text/plain": [
       "(0.0, 1.0)"
      ]
     },
     "execution_count": 26,
     "metadata": {},
     "output_type": "execute_result"
    }
   ],
   "source": [
    "np.min(train_images),np.max(train_images)"
   ]
  },
  {
   "cell_type": "code",
   "execution_count": 38,
   "id": "7aa34de4",
   "metadata": {},
   "outputs": [
    {
     "data": {
      "text/plain": [
       "<matplotlib.image.AxesImage at 0x2234c14e648>"
      ]
     },
     "execution_count": 38,
     "metadata": {},
     "output_type": "execute_result"
    },
    {
     "data": {
      "image/png": "[encoded data removed]",
      "text/plain": [
       "<Figure size 432x288 with 1 Axes>"
      ]
     },
     "metadata": {
      "needs_background": "light"
     },
     "output_type": "display_data"
    }
   ],
   "source": [
    "tmpList=[]; num=4\n",
    "for i,j in zip(train_images,train_labels):\n",
    "    if j==num:\n",
    "        tmpList.append(i)\n",
    "\n",
    "tmp=np.concatenate(tmpList[:20],axis=-1)\n",
    "\n",
    "plt.imshow(tmp,'gray')"
   ]
  },
  {
   "cell_type": "code",
   "execution_count": 42,
   "id": "395e428d",
   "metadata": {},
   "outputs": [
    {
     "data": {
      "text/plain": [
       "array([[0.        , 0.        , 0.        , 0.        , 0.        ,\n",
       "        0.        , 0.        , 0.00784314, 0.        , 0.        ,\n",
       "        0.04705882, 0.21568627, 0.38431373, 0.20392157, 0.17647059,\n",
       "        0.2745098 , 0.18431373, 0.        , 0.        , 0.00392157,\n",
       "        0.        , 0.        , 0.        , 0.        , 0.        ,\n",
       "        0.        , 0.        , 0.        ],\n",
       "       [0.        , 0.        , 0.        , 0.        , 0.        ,\n",
       "        0.        , 0.        , 0.        , 0.        , 0.15294118,\n",
       "        0.20392157, 0.36470588, 0.56470588, 0.3254902 , 0.25882353,\n",
       "        0.3372549 , 0.30588235, 0.18823529, 0.        , 0.        ,\n",
       "        0.        , 0.        , 0.        , 0.        , 0.        ,\n",
       "        0.        , 0.        , 0.        ],\n",
       "       [0.        , 0.        , 0.        , 0.        , 0.        ,\n",
       "        0.        , 0.        , 0.        , 0.1372549 , 0.2627451 ,\n",
       "        0.14117647, 0.4627451 , 0.59215686, 0.23529412, 0.10980392,\n",
       "        0.24705882, 0.17254902, 0.23529412, 0.20392157, 0.        ,\n",
       "        0.        , 0.        , 0.        , 0.        , 0.        ,\n",
       "        0.        , 0.        , 0.        ],\n",
       "       [0.        , 0.        , 0.        , 0.        , 0.        ,\n",
       "        0.        , 0.        , 0.        , 0.2       , 0.16862745,\n",
       "        0.11372549, 0.35294118, 0.82745098, 0.90980392, 0.61568627,\n",
       "        0.35294118, 0.08627451, 0.08235294, 0.20784314, 0.03529412,\n",
       "        0.        , 0.        , 0.        , 0.        , 0.        ,\n",
       "        0.        , 0.        , 0.        ],\n",
       "       [0.        , 0.        , 0.        , 0.        , 0.        ,\n",
       "        0.        , 0.00784314, 0.14117647, 0.24705882, 0.38823529,\n",
       "        0.2745098 , 0.24705882, 0.96470588, 0.94509804, 0.64313725,\n",
       "        0.45490196, 0.31372549, 0.43137255, 0.56862745, 0.45882353,\n",
       "        0.10980392, 0.        , 0.        , 0.        , 0.        ,\n",
       "        0.        , 0.        , 0.        ],\n",
       "       [0.        , 0.        , 0.        , 0.        , 0.        ,\n",
       "        0.        , 0.14117647, 0.25882353, 0.21960784, 0.24705882,\n",
       "        0.42745098, 0.21568627, 0.8745098 , 1.        , 0.88235294,\n",
       "        0.43137255, 0.5254902 , 0.41176471, 0.30980392, 0.29803922,\n",
       "        0.34117647, 0.19215686, 0.        , 0.        , 0.        ,\n",
       "        0.        , 0.        , 0.        ],\n",
       "       [0.        , 0.        , 0.        , 0.        , 0.        ,\n",
       "        0.        , 0.20392157, 0.16862745, 0.23137255, 0.24313725,\n",
       "        0.15294118, 0.09803922, 0.17254902, 0.89803922, 0.89411765,\n",
       "        0.16862745, 0.15686275, 0.16862745, 0.24313725, 0.2       ,\n",
       "        0.21960784, 0.29019608, 0.04705882, 0.        , 0.        ,\n",
       "        0.        , 0.        , 0.        ],\n",
       "       [0.        , 0.        , 0.        , 0.        , 0.        ,\n",
       "        0.03529412, 0.22745098, 0.18823529, 0.19215686, 0.22745098,\n",
       "        0.23529412, 0.18431373, 0.0627451 , 0.91764706, 0.70588235,\n",
       "        0.06666667, 0.23137255, 0.21568627, 0.25098039, 0.20784314,\n",
       "        0.23529412, 0.29411765, 0.15686275, 0.        , 0.        ,\n",
       "        0.        , 0.        , 0.        ],\n",
       "       [0.        , 0.        , 0.        , 0.        , 0.        ,\n",
       "        0.11372549, 0.23137255, 0.15686275, 0.18823529, 0.15686275,\n",
       "        0.18431373, 0.21960784, 0.1254902 , 0.30588235, 0.23529412,\n",
       "        0.16078431, 0.23529412, 0.19215686, 0.23137255, 0.19215686,\n",
       "        0.30588235, 0.28235294, 0.24705882, 0.        , 0.        ,\n",
       "        0.        , 0.        , 0.        ],\n",
       "       [0.        , 0.        , 0.        , 0.        , 0.        ,\n",
       "        0.14509804, 0.26666667, 0.20784314, 0.14509804, 0.18431373,\n",
       "        0.17647059, 0.19215686, 0.08627451, 0.61176471, 0.36470588,\n",
       "        0.10980392, 0.21960784, 0.20784314, 0.24313725, 0.22745098,\n",
       "        0.40392157, 0.21568627, 0.30980392, 0.        , 0.        ,\n",
       "        0.        , 0.        , 0.        ],\n",
       "       [0.        , 0.        , 0.        , 0.        , 0.        ,\n",
       "        0.20392157, 0.21960784, 0.25882353, 0.16078431, 0.16078431,\n",
       "        0.18823529, 0.19215686, 0.12156863, 0.34901961, 0.23529412,\n",
       "        0.14509804, 0.18823529, 0.21960784, 0.21960784, 0.24705882,\n",
       "        0.36470588, 0.19215686, 0.34117647, 0.00392157, 0.        ,\n",
       "        0.        , 0.        , 0.        ],\n",
       "       [0.        , 0.        , 0.        , 0.        , 0.03921569,\n",
       "        0.25882353, 0.23529412, 0.38823529, 0.21568627, 0.15294118,\n",
       "        0.18431373, 0.18431373, 0.14509804, 0.29803922, 0.24313725,\n",
       "        0.15294118, 0.2       , 0.23529412, 0.22745098, 0.28235294,\n",
       "        0.44313725, 0.18431373, 0.38431373, 0.07843137, 0.        ,\n",
       "        0.        , 0.        , 0.        ],\n",
       "       [0.        , 0.        , 0.        , 0.        , 0.03529412,\n",
       "        0.24705882, 0.27843137, 0.44313725, 0.18823529, 0.15294118,\n",
       "        0.18431373, 0.2       , 0.1372549 , 0.33333333, 0.2627451 ,\n",
       "        0.15294118, 0.24705882, 0.25098039, 0.23137255, 0.43137255,\n",
       "        0.54901961, 0.20392157, 0.34117647, 0.16862745, 0.        ,\n",
       "        0.        , 0.        , 0.        ],\n",
       "       [0.        , 0.        , 0.        , 0.        , 0.05490196,\n",
       "        0.20784314, 0.26666667, 0.41568627, 0.11372549, 0.18823529,\n",
       "        0.18431373, 0.21568627, 0.14509804, 0.29019608, 0.22745098,\n",
       "        0.17647059, 0.22745098, 0.24313725, 0.23137255, 0.4745098 ,\n",
       "        0.47058824, 0.14509804, 0.37254902, 0.20392157, 0.        ,\n",
       "        0.        , 0.        , 0.        ],\n",
       "       [0.        , 0.        , 0.        , 0.        , 0.09411765,\n",
       "        0.21960784, 0.2627451 , 0.48627451, 0.14117647, 0.18431373,\n",
       "        0.18823529, 0.2       , 0.15294118, 0.29411765, 0.29803922,\n",
       "        0.18431373, 0.2       , 0.26666667, 0.27843137, 0.45882353,\n",
       "        0.54901961, 0.23529412, 0.29803922, 0.23529412, 0.        ,\n",
       "        0.        , 0.        , 0.        ],\n",
       "       [0.        , 0.        , 0.        , 0.        , 0.16862745,\n",
       "        0.24313725, 0.2745098 , 0.44705882, 0.14117647, 0.16862745,\n",
       "        0.19215686, 0.19215686, 0.12941176, 0.29411765, 0.30588235,\n",
       "        0.15294118, 0.20784314, 0.25882353, 0.29019608, 0.38431373,\n",
       "        0.49411765, 0.24313725, 0.26666667, 0.34901961, 0.        ,\n",
       "        0.        , 0.        , 0.        ],\n",
       "       [0.        , 0.        , 0.        , 0.        , 0.19215686,\n",
       "        0.26666667, 0.41960784, 0.45490196, 0.04705882, 0.21960784,\n",
       "        0.17254902, 0.20392157, 0.12941176, 0.29019608, 0.29411765,\n",
       "        0.12941176, 0.25882353, 0.19215686, 0.39607843, 0.3372549 ,\n",
       "        0.40392157, 0.33333333, 0.3372549 , 0.42745098, 0.        ,\n",
       "        0.        , 0.        , 0.        ],\n",
       "       [0.        , 0.        , 0.        , 0.        , 0.17254902,\n",
       "        0.27843137, 0.44705882, 0.38039216, 0.07058824, 0.25882353,\n",
       "        0.17254902, 0.20392157, 0.17254902, 0.2627451 , 0.30980392,\n",
       "        0.18431373, 0.23137255, 0.12941176, 0.52156863, 0.35686275,\n",
       "        0.19215686, 0.4745098 , 0.29803922, 0.43137255, 0.15686275,\n",
       "        0.        , 0.        , 0.        ],\n",
       "       [0.        , 0.        , 0.        , 0.        , 0.20784314,\n",
       "        0.26666667, 0.4745098 , 0.14509804, 0.0627451 , 0.21568627,\n",
       "        0.18431373, 0.20392157, 0.15686275, 0.25882353, 0.3254902 ,\n",
       "        0.18431373, 0.19215686, 0.19215686, 0.38039216, 0.35686275,\n",
       "        0.11372549, 0.4       , 0.2745098 , 0.42745098, 0.23529412,\n",
       "        0.        , 0.        , 0.        ],\n",
       "       [0.        , 0.        , 0.        , 0.        , 0.18431373,\n",
       "        0.21960784, 0.44313725, 0.1254902 , 0.07058824, 0.21568627,\n",
       "        0.18431373, 0.23137255, 0.14509804, 0.23529412, 0.35686275,\n",
       "        0.12941176, 0.23529412, 0.24313725, 0.24705882, 0.35294118,\n",
       "        0.03137255, 0.44705882, 0.29803922, 0.31372549, 0.19215686,\n",
       "        0.        , 0.        , 0.        ],\n",
       "       [0.        , 0.        , 0.        , 0.        , 0.18823529,\n",
       "        0.23137255, 0.38823529, 0.07843137, 0.11372549, 0.20392157,\n",
       "        0.19215686, 0.21568627, 0.16078431, 0.25098039, 0.34901961,\n",
       "        0.1372549 , 0.25098039, 0.18823529, 0.21568627, 0.43529412,\n",
       "        0.05490196, 0.23137255, 0.2745098 , 0.2627451 , 0.14117647,\n",
       "        0.        , 0.        , 0.        ],\n",
       "       [0.        , 0.        , 0.        , 0.        , 0.17647059,\n",
       "        0.24705882, 0.41568627, 0.        , 0.20392157, 0.20392157,\n",
       "        0.19215686, 0.18823529, 0.16862745, 0.22745098, 0.35294118,\n",
       "        0.19215686, 0.21960784, 0.23137255, 0.23137255, 0.38823529,\n",
       "        0.16862745, 0.08235294, 0.3254902 , 0.29803922, 0.20392157,\n",
       "        0.        , 0.        , 0.        ],\n",
       "       [0.        , 0.        , 0.        , 0.        , 0.17647059,\n",
       "        0.24705882, 0.38039216, 0.        , 0.16862745, 0.18823529,\n",
       "        0.20392157, 0.18823529, 0.16078431, 0.21568627, 0.36862745,\n",
       "        0.16862745, 0.22745098, 0.2745098 , 0.21568627, 0.33333333,\n",
       "        0.19215686, 0.01960784, 0.3372549 , 0.29411765, 0.17647059,\n",
       "        0.        , 0.        , 0.        ],\n",
       "       [0.        , 0.        , 0.        , 0.        , 0.17647059,\n",
       "        0.2745098 , 0.2627451 , 0.05490196, 0.3372549 , 0.16078431,\n",
       "        0.19215686, 0.2       , 0.17647059, 0.22745098, 0.34901961,\n",
       "        0.14117647, 0.2627451 , 0.24705882, 0.20784314, 0.31372549,\n",
       "        0.21960784, 0.00392157, 0.3372549 , 0.27843137, 0.18823529,\n",
       "        0.        , 0.        , 0.        ],\n",
       "       [0.        , 0.        , 0.        , 0.        , 0.22745098,\n",
       "        0.38823529, 0.2       , 0.17647059, 0.4627451 , 0.15294118,\n",
       "        0.20392157, 0.18823529, 0.18431373, 0.21568627, 0.24705882,\n",
       "        0.21568627, 0.25098039, 0.20784314, 0.2627451 , 0.2745098 ,\n",
       "        0.30588235, 0.        , 0.32156863, 0.35686275, 0.26666667,\n",
       "        0.        , 0.        , 0.        ],\n",
       "       [0.        , 0.        , 0.        , 0.        , 0.05490196,\n",
       "        0.09803922, 0.03921569, 0.11372549, 0.15294118, 0.19215686,\n",
       "        0.20784314, 0.17254902, 0.17647059, 0.18823529, 0.19215686,\n",
       "        0.25098039, 0.2       , 0.24313725, 0.25098039, 0.22745098,\n",
       "        0.35294118, 0.02352941, 0.        , 0.05098039, 0.03137255,\n",
       "        0.        , 0.        , 0.        ],\n",
       "       [0.        , 0.        , 0.        , 0.        , 0.        ,\n",
       "        0.        , 0.        , 0.23529412, 0.23529412, 0.20784314,\n",
       "        0.20784314, 0.21568627, 0.21568627, 0.20784314, 0.25882353,\n",
       "        0.24705882, 0.24313725, 0.2745098 , 0.2745098 , 0.29803922,\n",
       "        0.36470588, 0.14117647, 0.        , 0.        , 0.        ,\n",
       "        0.        , 0.        , 0.        ],\n",
       "       [0.        , 0.        , 0.        , 0.        , 0.        ,\n",
       "        0.        , 0.01568627, 0.20784314, 0.17647059, 0.20784314,\n",
       "        0.17254902, 0.16862745, 0.15294118, 0.16862745, 0.17647059,\n",
       "        0.16078431, 0.24313725, 0.19215686, 0.23529412, 0.21960784,\n",
       "        0.2627451 , 0.08627451, 0.        , 0.00784314, 0.        ,\n",
       "        0.        , 0.        , 0.        ]])"
      ]
     },
     "execution_count": 42,
     "metadata": {},
     "output_type": "execute_result"
    }
   ],
   "source": [
    "tmpList[0]"
   ]
  },
  {
   "cell_type": "code",
   "execution_count": 41,
   "id": "02627199",
   "metadata": {},
   "outputs": [
    {
     "name": "stdout",
     "output_type": "stream",
     "text": [
      "Train on 60000 samples\n",
      "Epoch 1/30\n",
      "60000/60000 [==============================] - 6s 95us/sample - loss: 0.4945 - accuracy: 0.8242\n",
      "Epoch 2/30\n",
      "60000/60000 [==============================] - 5s 89us/sample - loss: 0.3734 - accuracy: 0.8632\n",
      "Epoch 3/30\n",
      "60000/60000 [==============================] - 5s 91us/sample - loss: 0.3340 - accuracy: 0.8778\n",
      "Epoch 4/30\n",
      "60000/60000 [==============================] - 5s 89us/sample - loss: 0.3105 - accuracy: 0.8849\n",
      "Epoch 5/30\n",
      "60000/60000 [==============================] - 6s 92us/sample - loss: 0.2935 - accuracy: 0.8898\n",
      "Epoch 6/30\n",
      "60000/60000 [==============================] - 6s 93us/sample - loss: 0.2782 - accuracy: 0.8957\n",
      "Epoch 7/30\n",
      "60000/60000 [==============================] - 6s 93us/sample - loss: 0.2680 - accuracy: 0.8994\n",
      "Epoch 8/30\n",
      "60000/60000 [==============================] - 5s 89us/sample - loss: 0.2573 - accuracy: 0.9031\n",
      "Epoch 9/30\n",
      "60000/60000 [==============================] - 6s 92us/sample - loss: 0.2462 - accuracy: 0.9078\n",
      "Epoch 10/30\n",
      "60000/60000 [==============================] - 5s 87us/sample - loss: 0.2377 - accuracy: 0.9102\n",
      "Epoch 11/30\n",
      "60000/60000 [==============================] - 6s 92us/sample - loss: 0.2316 - accuracy: 0.9133\n",
      "Epoch 12/30\n",
      "60000/60000 [==============================] - 6s 94us/sample - loss: 0.2209 - accuracy: 0.9170\n",
      "Epoch 13/30\n",
      "60000/60000 [==============================] - 6s 99us/sample - loss: 0.2151 - accuracy: 0.9184\n",
      "Epoch 14/30\n",
      "60000/60000 [==============================] - 5s 91us/sample - loss: 0.2108 - accuracy: 0.9198\n",
      "Epoch 15/30\n",
      "60000/60000 [==============================] - 5s 91us/sample - loss: 0.2055 - accuracy: 0.9224\n",
      "Epoch 16/30\n",
      "60000/60000 [==============================] - 5s 92us/sample - loss: 0.1981 - accuracy: 0.9250\n",
      "Epoch 17/30\n",
      "60000/60000 [==============================] - 6s 96us/sample - loss: 0.1907 - accuracy: 0.9272s - loss: 0.1903 - accuracy: 0.\n",
      "Epoch 18/30\n",
      "60000/60000 [==============================] - 6s 95us/sample - loss: 0.1885 - accuracy: 0.9288s - loss: 0.1884 - accuracy: 0.92\n",
      "Epoch 19/30\n",
      "60000/60000 [==============================] - 5s 90us/sample - loss: 0.1830 - accuracy: 0.9305s - loss: 0\n",
      "Epoch 20/30\n",
      "60000/60000 [==============================] - 5s 91us/sample - loss: 0.1798 - accuracy: 0.9321s - loss: 0.1 - ETA: 0s - loss: 0.1789 - \n",
      "Epoch 21/30\n",
      "60000/60000 [==============================] - 5s 91us/sample - loss: 0.1725 - accuracy: 0.9342\n",
      "Epoch 22/30\n",
      "60000/60000 [==============================] - 6s 97us/sample - loss: 0.1703 - accuracy: 0.9353s - loss: 0.1702 - accuracy: 0.93 - ETA: 0s - loss:\n",
      "Epoch 23/30\n",
      "60000/60000 [==============================] - 6s 96us/sample - loss: 0.1651 - accuracy: 0.9373\n",
      "Epoch 24/30\n",
      "60000/60000 [==============================] - 6s 93us/sample - loss: 0.1632 - accuracy: 0.9378\n",
      "Epoch 25/30\n",
      "60000/60000 [==============================] - 6s 95us/sample - loss: 0.1576 - accuracy: 0.9403\n",
      "Epoch 26/30\n",
      "60000/60000 [==============================] - 6s 92us/sample - loss: 0.1553 - accuracy: 0.9409s - loss: 0.1519  - ETA: 0s - loss: 0.1530 - accura\n",
      "Epoch 27/30\n",
      "60000/60000 [==============================] - 5s 86us/sample - loss: 0.1521 - accuracy: 0.9430\n",
      "Epoch 28/30\n",
      "60000/60000 [==============================] - 5s 89us/sample - loss: 0.1465 - accuracy: 0.9449s - loss: 0.1457 - ac - ETA: 1s - los - ETA: 0s - l\n",
      "Epoch 29/30\n",
      "60000/60000 [==============================] - 5s 85us/sample - loss: 0.1484 - accuracy: 0.9439\n",
      "Epoch 30/30\n",
      "60000/60000 [==============================] - 5s 86us/sample - loss: 0.1421 - accuracy: 0.9454\n"
     ]
    },
    {
     "data": {
      "text/plain": [
       "<tensorflow.python.keras.callbacks.History at 0x2208039a488>"
      ]
     },
     "execution_count": 41,
     "metadata": {},
     "output_type": "execute_result"
    }
   ],
   "source": [
    "model = tf.keras.Sequential([\n",
    "    tf.keras.layers.Flatten(input_shape=(28, 28)),\n",
    "    tf.keras.layers.Dense(128, activation='relu'),\n",
    "    tf.keras.layers.Dense(50, activation='relu'),\n",
    "    tf.keras.layers.Dense(10)\n",
    "])\n",
    "\n",
    "model.compile(optimizer='adam',\n",
    "              loss=tf.keras.losses.SparseCategoricalCrossentropy(from_logits=True),\n",
    "              metrics=['accuracy'])\n",
    "model.fit(train_images, train_labels, epochs=30)"
   ]
  },
  {
   "cell_type": "code",
   "execution_count": 43,
   "id": "38289470",
   "metadata": {},
   "outputs": [
    {
     "name": "stdout",
     "output_type": "stream",
     "text": [
      "10000/1 - 1s - loss: 0.2807 - accuracy: 0.8846\n",
      "\n",
      "Test accuracy: 0.8846\n"
     ]
    }
   ],
   "source": [
    "test_loss, test_acc = model.evaluate(test_images,  test_labels, verbose=2)\n",
    "\n",
    "print('\\nTest accuracy:', test_acc)"
   ]
  },
  {
   "cell_type": "code",
   "execution_count": 48,
   "id": "30f0cdce",
   "metadata": {},
   "outputs": [
    {
     "data": {
      "text/plain": [
       "'Ankle boot'"
      ]
     },
     "execution_count": 48,
     "metadata": {},
     "output_type": "execute_result"
    }
   ],
   "source": [
    "# probability_model = tf.keras.Sequential([model, \n",
    "#                                          tf.keras.layers.Softmax()])\n",
    "\n",
    "# predictions = probability_model.predictions(test_images)\n",
    "\n",
    "class_names = ['T-shirt/top', 'Trouser', 'Pullover', 'Dress', 'Coat',\n",
    "               'Sandal', 'Shirt', 'Sneaker', 'Bag', 'Ankle boot']\n",
    "\n",
    "\n",
    "bun=np.argmax(model.predict(test_images[0].reshape(1,28,28)))\n",
    "class_names[bun]\n"
   ]
  },
  {
   "cell_type": "code",
   "execution_count": 46,
   "id": "ac0f19f4",
   "metadata": {},
   "outputs": [
    {
     "data": {
      "text/plain": [
       "<matplotlib.image.AxesImage at 0x2233d61dc88>"
      ]
     },
     "execution_count": 46,
     "metadata": {},
     "output_type": "execute_result"
    },
    {
     "data": {
      "image/png": "[encoded data removed]",
      "text/plain": [
       "<Figure size 432x288 with 1 Axes>"
      ]
     },
     "metadata": {
      "needs_background": "light"
     },
     "output_type": "display_data"
    }
   ],
   "source": [
    "plt.imshow(test_images[0],'gray')"
   ]
  },
  {
   "cell_type": "code",
   "execution_count": 55,
   "id": "eedb3c49",
   "metadata": {},
   "outputs": [
    {
     "name": "stdout",
     "output_type": "stream",
     "text": [
      "INFO:tensorflow:Assets written to: c:\\data\\fa\\assets\n"
     ]
    }
   ],
   "source": [
    "model.save('c:\\\\data\\\\fa')"
   ]
  },
  {
   "cell_type": "code",
   "execution_count": 67,
   "id": "0311a7f1",
   "metadata": {},
   "outputs": [
    {
     "name": "stdout",
     "output_type": "stream",
     "text": [
      "0.0 1.0\n",
      "8\n"
     ]
    },
    {
     "data": {
      "text/plain": [
       "'Bag'"
      ]
     },
     "execution_count": 67,
     "metadata": {},
     "output_type": "execute_result"
    },
    {
     "data": {
      "image/png": "[encoded data removed]",
      "text/plain": [
       "<Figure size 432x288 with 1 Axes>"
      ]
     },
     "metadata": {
      "needs_background": "light"
     },
     "output_type": "display_data"
    }
   ],
   "source": [
    "from PIL import Image\n",
    "\n",
    "img=Image.open('c:\\\\data\\\\jacket.jpg').convert('L')\n",
    "img=img.resize((28,28))\n",
    "imgArr=np.array(img)\n",
    "imscale=imgArr/255\n",
    "\n",
    "print(np.min(imscale),np.max(imscale))\n",
    "plt.imshow(imscale,'gray')\n",
    "\n",
    "result=model.predict(imscale.reshape(1,28,28))\n",
    "\n",
    "\n",
    "class_names = ['T-shirt/top', 'Trouser', 'Pullover', 'Dress', 'Coat',\n",
    "               'Sandal', 'Shirt', 'Sneaker', 'Bag', 'Ankle boot']\n",
    "\n",
    "print(np.argmax(result))\n",
    "class_names[np.argmax(result)]"
   ]
  },
  {
   "cell_type": "code",
   "execution_count": 59,
   "id": "6e1081ee",
   "metadata": {},
   "outputs": [
    {
     "name": "stdout",
     "output_type": "stream",
     "text": [
      "4\n"
     ]
    },
    {
     "data": {
      "text/plain": [
       "'Coat'"
      ]
     },
     "execution_count": 59,
     "metadata": {},
     "output_type": "execute_result"
    }
   ],
   "source": [
    "imscale=imgArr/255\n",
    "xx=1-imscale\n",
    "xx_re=model.predict(xx.reshape(1,28,28))\n",
    "print(np.argmax(xx_re))\n",
    "pumName=class_names[np.argmax(xx_re)]\n",
    "pumName"
   ]
  },
  {
   "cell_type": "code",
   "execution_count": 68,
   "id": "a648824d",
   "metadata": {},
   "outputs": [],
   "source": [
    "img.save('c:\\\\data\\\\pum\\\\' + pumName+ '\\\\s.jpg')"
   ]
  }
 ],
 "metadata": {
  "kernelspec": {
   "display_name": "Python 3 (ipykernel)",
   "language": "python",
   "name": "python3"
  },
  "language_info": {
   "codemirror_mode": {
    "name": "ipython",
    "version": 3
   },
   "file_extension": ".py",
   "mimetype": "text/x-python",
   "name": "python",
   "nbconvert_exporter": "python",
   "pygments_lexer": "ipython3",
   "version": "3.7.13"
  }
 },
 "nbformat": 4,
 "nbformat_minor": 5
}
